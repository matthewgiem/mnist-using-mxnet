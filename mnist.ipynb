{
 "cells": [
  {
   "cell_type": "code",
   "execution_count": 1,
   "metadata": {},
   "outputs": [],
   "source": [
    "import mxnet as mx"
   ]
  },
  {
   "cell_type": "code",
   "execution_count": 2,
   "metadata": {},
   "outputs": [],
   "source": [
    "mnist = mx.test_utils.get_mnist()"
   ]
  },
  {
   "cell_type": "code",
   "execution_count": 3,
   "metadata": {},
   "outputs": [],
   "source": [
    "mx.random.seed(42)"
   ]
  },
  {
   "cell_type": "code",
   "execution_count": 4,
   "metadata": {},
   "outputs": [],
   "source": [
    "ctx = mx.gpu() if mx.test_utils.list_gpus() else mx.cpu()"
   ]
  },
  {
   "cell_type": "code",
   "execution_count": 5,
   "metadata": {},
   "outputs": [],
   "source": [
    "batch_size = 100"
   ]
  },
  {
   "cell_type": "code",
   "execution_count": 6,
   "metadata": {},
   "outputs": [],
   "source": [
    "train_iter = mx.io.NDArrayIter(mnist['train_data'], mnist['train_label'], batch_size, shuffle=True)"
   ]
  },
  {
   "cell_type": "code",
   "execution_count": 7,
   "metadata": {},
   "outputs": [],
   "source": [
    "val_iter = mx.io.NDArrayIter(mnist['test_data'], mnist['test_label'], batch_size)"
   ]
  },
  {
   "cell_type": "code",
   "execution_count": 8,
   "metadata": {},
   "outputs": [],
   "source": [
    "data = mx.sym.var('data')"
   ]
  },
  {
   "cell_type": "code",
   "execution_count": 9,
   "metadata": {},
   "outputs": [],
   "source": [
    "data = mx.sym.flatten(data=data)"
   ]
  },
  {
   "cell_type": "code",
   "execution_count": 10,
   "metadata": {},
   "outputs": [],
   "source": [
    "fc1 = mx.sym.FullyConnected(data=data, num_hidden=128)"
   ]
  },
  {
   "cell_type": "code",
   "execution_count": 12,
   "metadata": {},
   "outputs": [],
   "source": [
    "act1 = mx.sym.Activation(data=fc1, act_type='relu')"
   ]
  },
  {
   "cell_type": "code",
   "execution_count": 14,
   "metadata": {},
   "outputs": [],
   "source": [
    "fc2 = mx.sym.FullyConnected(data=act1, num_hidden=64)"
   ]
  },
  {
   "cell_type": "code",
   "execution_count": 15,
   "metadata": {},
   "outputs": [],
   "source": [
    "act2 = mx.sym.Activation(data=fc2, act_type='relu')"
   ]
  },
  {
   "cell_type": "code",
   "execution_count": 17,
   "metadata": {},
   "outputs": [],
   "source": [
    "fc3 = mx.sym.FullyConnected(data=act2, num_hidden=10)"
   ]
  },
  {
   "cell_type": "code",
   "execution_count": 18,
   "metadata": {},
   "outputs": [],
   "source": [
    "mlp = mx.sym.SoftmaxOutput(data=fc3, name='softmax')"
   ]
  },
  {
   "cell_type": "code",
   "execution_count": 19,
   "metadata": {},
   "outputs": [],
   "source": [
    "import logging\n",
    "logging.getLogger().setLevel(logging.DEBUG)"
   ]
  },
  {
   "cell_type": "code",
   "execution_count": 20,
   "metadata": {},
   "outputs": [],
   "source": [
    "mlp_model = mx.mod.Module(symbol=mlp, context=ctx)"
   ]
  },
  {
   "cell_type": "code",
   "execution_count": 22,
   "metadata": {},
   "outputs": [
    {
     "name": "stderr",
     "output_type": "stream",
     "text": [
      "INFO:root:Epoch[0] Batch [100]\tSpeed: 43832.53 samples/sec\taccuracy=0.104257\n",
      "INFO:root:Epoch[0] Batch [200]\tSpeed: 45828.27 samples/sec\taccuracy=0.112500\n",
      "INFO:root:Epoch[0] Batch [300]\tSpeed: 41473.97 samples/sec\taccuracy=0.111800\n",
      "INFO:root:Epoch[0] Batch [400]\tSpeed: 41487.92 samples/sec\taccuracy=0.110400\n",
      "INFO:root:Epoch[0] Batch [500]\tSpeed: 42576.36 samples/sec\taccuracy=0.120500\n",
      "INFO:root:Epoch[0] Train-accuracy=0.224242\n",
      "INFO:root:Epoch[0] Time cost=1.417\n",
      "INFO:root:Epoch[0] Validation-accuracy=0.284400\n",
      "INFO:root:Epoch[1] Batch [100]\tSpeed: 62589.59 samples/sec\taccuracy=0.447525\n",
      "INFO:root:Epoch[1] Batch [200]\tSpeed: 61044.91 samples/sec\taccuracy=0.696500\n",
      "INFO:root:Epoch[1] Batch [300]\tSpeed: 59393.67 samples/sec\taccuracy=0.772000\n",
      "INFO:root:Epoch[1] Batch [400]\tSpeed: 58757.41 samples/sec\taccuracy=0.808600\n",
      "INFO:root:Epoch[1] Batch [500]\tSpeed: 56983.03 samples/sec\taccuracy=0.823900\n",
      "INFO:root:Epoch[1] Train-accuracy=0.838788\n",
      "INFO:root:Epoch[1] Time cost=1.014\n",
      "INFO:root:Epoch[1] Validation-accuracy=0.855400\n",
      "INFO:root:Epoch[2] Batch [100]\tSpeed: 61956.74 samples/sec\taccuracy=0.860594\n",
      "INFO:root:Epoch[2] Batch [200]\tSpeed: 61927.19 samples/sec\taccuracy=0.870300\n",
      "INFO:root:Epoch[2] Batch [300]\tSpeed: 61019.51 samples/sec\taccuracy=0.882600\n",
      "INFO:root:Epoch[2] Batch [400]\tSpeed: 58664.14 samples/sec\taccuracy=0.899700\n",
      "INFO:root:Epoch[2] Batch [500]\tSpeed: 60279.88 samples/sec\taccuracy=0.903100\n",
      "INFO:root:Epoch[2] Train-accuracy=0.908384\n",
      "INFO:root:Epoch[2] Time cost=1.000\n",
      "INFO:root:Epoch[2] Validation-accuracy=0.921800\n",
      "INFO:root:Epoch[3] Batch [100]\tSpeed: 55887.17 samples/sec\taccuracy=0.921089\n",
      "INFO:root:Epoch[3] Batch [200]\tSpeed: 53126.75 samples/sec\taccuracy=0.924800\n",
      "INFO:root:Epoch[3] Batch [300]\tSpeed: 55407.43 samples/sec\taccuracy=0.926900\n",
      "INFO:root:Epoch[3] Batch [400]\tSpeed: 51512.96 samples/sec\taccuracy=0.932900\n",
      "INFO:root:Epoch[3] Batch [500]\tSpeed: 52835.10 samples/sec\taccuracy=0.932200\n",
      "INFO:root:Epoch[3] Train-accuracy=0.935455\n",
      "INFO:root:Epoch[3] Time cost=1.116\n",
      "INFO:root:Epoch[3] Validation-accuracy=0.943000\n",
      "INFO:root:Epoch[4] Batch [100]\tSpeed: 54241.41 samples/sec\taccuracy=0.942178\n",
      "INFO:root:Epoch[4] Batch [200]\tSpeed: 54224.09 samples/sec\taccuracy=0.943600\n",
      "INFO:root:Epoch[4] Batch [300]\tSpeed: 46416.17 samples/sec\taccuracy=0.942700\n",
      "INFO:root:Epoch[4] Batch [400]\tSpeed: 58875.11 samples/sec\taccuracy=0.947700\n",
      "INFO:root:Epoch[4] Batch [500]\tSpeed: 58467.22 samples/sec\taccuracy=0.947000\n",
      "INFO:root:Epoch[4] Train-accuracy=0.948485\n",
      "INFO:root:Epoch[4] Time cost=1.123\n",
      "INFO:root:Epoch[4] Validation-accuracy=0.954000\n",
      "INFO:root:Epoch[5] Batch [100]\tSpeed: 53244.10 samples/sec\taccuracy=0.954455\n",
      "INFO:root:Epoch[5] Batch [200]\tSpeed: 58493.15 samples/sec\taccuracy=0.955100\n",
      "INFO:root:Epoch[5] Batch [300]\tSpeed: 54874.77 samples/sec\taccuracy=0.952400\n",
      "INFO:root:Epoch[5] Batch [400]\tSpeed: 48806.16 samples/sec\taccuracy=0.956700\n",
      "INFO:root:Epoch[5] Batch [500]\tSpeed: 59655.21 samples/sec\taccuracy=0.956800\n",
      "INFO:root:Epoch[5] Train-accuracy=0.959697\n",
      "INFO:root:Epoch[5] Time cost=1.182\n",
      "INFO:root:Epoch[5] Validation-accuracy=0.961200\n",
      "INFO:root:Epoch[6] Batch [100]\tSpeed: 49122.20 samples/sec\taccuracy=0.961683\n",
      "INFO:root:Epoch[6] Batch [200]\tSpeed: 36731.89 samples/sec\taccuracy=0.962700\n",
      "INFO:root:Epoch[6] Batch [300]\tSpeed: 38188.78 samples/sec\taccuracy=0.960400\n",
      "INFO:root:Epoch[6] Batch [400]\tSpeed: 55043.07 samples/sec\taccuracy=0.963900\n",
      "INFO:root:Epoch[6] Batch [500]\tSpeed: 50922.70 samples/sec\taccuracy=0.963200\n",
      "INFO:root:Epoch[6] Train-accuracy=0.964646\n",
      "INFO:root:Epoch[6] Time cost=1.308\n",
      "INFO:root:Epoch[6] Validation-accuracy=0.964600\n",
      "INFO:root:Epoch[7] Batch [100]\tSpeed: 43928.84 samples/sec\taccuracy=0.968515\n",
      "INFO:root:Epoch[7] Batch [200]\tSpeed: 53077.34 samples/sec\taccuracy=0.968400\n",
      "INFO:root:Epoch[7] Batch [300]\tSpeed: 59211.14 samples/sec\taccuracy=0.964700\n",
      "INFO:root:Epoch[7] Batch [400]\tSpeed: 59484.90 samples/sec\taccuracy=0.970000\n",
      "INFO:root:Epoch[7] Batch [500]\tSpeed: 56171.28 samples/sec\taccuracy=0.967100\n",
      "INFO:root:Epoch[7] Train-accuracy=0.970000\n",
      "INFO:root:Epoch[7] Time cost=1.111\n",
      "INFO:root:Epoch[7] Validation-accuracy=0.967300\n",
      "INFO:root:Epoch[8] Batch [100]\tSpeed: 57583.85 samples/sec\taccuracy=0.973366\n",
      "INFO:root:Epoch[8] Batch [200]\tSpeed: 51533.09 samples/sec\taccuracy=0.973900\n",
      "INFO:root:Epoch[8] Batch [300]\tSpeed: 57281.94 samples/sec\taccuracy=0.969600\n",
      "INFO:root:Epoch[8] Batch [400]\tSpeed: 58014.75 samples/sec\taccuracy=0.974000\n",
      "INFO:root:Epoch[8] Batch [500]\tSpeed: 55762.49 samples/sec\taccuracy=0.971100\n",
      "INFO:root:Epoch[8] Train-accuracy=0.974040\n",
      "INFO:root:Epoch[8] Time cost=1.070\n",
      "INFO:root:Epoch[8] Validation-accuracy=0.969300\n",
      "INFO:root:Epoch[9] Batch [100]\tSpeed: 59484.22 samples/sec\taccuracy=0.976931\n",
      "INFO:root:Epoch[9] Batch [200]\tSpeed: 60286.29 samples/sec\taccuracy=0.977700\n",
      "INFO:root:Epoch[9] Batch [300]\tSpeed: 60288.89 samples/sec\taccuracy=0.974200\n",
      "INFO:root:Epoch[9] Batch [400]\tSpeed: 59659.45 samples/sec\taccuracy=0.977800\n",
      "INFO:root:Epoch[9] Batch [500]\tSpeed: 56641.82 samples/sec\taccuracy=0.974800\n",
      "INFO:root:Epoch[9] Train-accuracy=0.978687\n",
      "INFO:root:Epoch[9] Time cost=1.023\n",
      "INFO:root:Epoch[9] Validation-accuracy=0.970300\n"
     ]
    }
   ],
   "source": [
    "mlp_model.fit(train_iter,\n",
    "             eval_data=val_iter,\n",
    "             optimizer='sgd',\n",
    "             optimizer_params={'learning_rate':0.1},\n",
    "             eval_metric='acc',\n",
    "             batch_end_callback = mx.callback.Speedometer(batch_size, 100),\n",
    "             num_epoch=10)"
   ]
  },
  {
   "cell_type": "code",
   "execution_count": 24,
   "metadata": {},
   "outputs": [],
   "source": [
    "test_iter = mx.io.NDArrayIter(mnist['test_data'], None, batch_size)"
   ]
  },
  {
   "cell_type": "code",
   "execution_count": 25,
   "metadata": {},
   "outputs": [],
   "source": [
    "prob = mlp_model.predict(test_iter)"
   ]
  },
  {
   "cell_type": "code",
   "execution_count": 26,
   "metadata": {},
   "outputs": [],
   "source": [
    "assert prob.shape == (10000, 10)"
   ]
  },
  {
   "cell_type": "code",
   "execution_count": 27,
   "metadata": {},
   "outputs": [],
   "source": [
    "test_iter = mx.io.NDArrayIter(mnist['test_data'], mnist['test_label'], batch_size)"
   ]
  },
  {
   "cell_type": "code",
   "execution_count": 28,
   "metadata": {},
   "outputs": [],
   "source": [
    "acc = mx.metric.Accuracy()"
   ]
  },
  {
   "cell_type": "code",
   "execution_count": 29,
   "metadata": {},
   "outputs": [
    {
     "data": {
      "text/plain": [
       "[('accuracy', 0.9703)]"
      ]
     },
     "execution_count": 29,
     "metadata": {},
     "output_type": "execute_result"
    }
   ],
   "source": [
    "mlp_model.score(test_iter, acc)"
   ]
  },
  {
   "cell_type": "code",
   "execution_count": 30,
   "metadata": {},
   "outputs": [
    {
     "name": "stdout",
     "output_type": "stream",
     "text": [
      "EvalMetric: {'accuracy': 0.9703}\n"
     ]
    }
   ],
   "source": [
    "print(acc)"
   ]
  },
  {
   "cell_type": "code",
   "execution_count": 31,
   "metadata": {},
   "outputs": [],
   "source": [
    "assert acc.get()[1] > 0.96, 'Achieved accuracy (%f) is lower than expected (0.96)' %acc.get()[1]"
   ]
  },
  {
   "cell_type": "code",
   "execution_count": null,
   "metadata": {},
   "outputs": [],
   "source": []
  }
 ],
 "metadata": {
  "kernelspec": {
   "display_name": "Python 3",
   "language": "python",
   "name": "python3"
  },
  "language_info": {
   "codemirror_mode": {
    "name": "ipython",
    "version": 3
   },
   "file_extension": ".py",
   "mimetype": "text/x-python",
   "name": "python",
   "nbconvert_exporter": "python",
   "pygments_lexer": "ipython3",
   "version": "3.6.5"
  }
 },
 "nbformat": 4,
 "nbformat_minor": 2
}
